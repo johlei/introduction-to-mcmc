{
 "cells": [
  {
   "cell_type": "markdown",
   "id": "02ba684e",
   "metadata": {},
   "source": [
    "# MCMC – Implementierung mit `emce`"
   ]
  },
  {
   "cell_type": "markdown",
   "id": "a3595827",
   "metadata": {},
   "source": [
    "vgl. https://prappleizer.github.io/Tutorials/MCMC/MCMC_Tutorial.html"
   ]
  },
  {
   "cell_type": "markdown",
   "id": "6fa0878b",
   "metadata": {},
   "source": [
    "## Installs"
   ]
  },
  {
   "cell_type": "code",
   "execution_count": null,
   "id": "848655d9",
   "metadata": {},
   "outputs": [],
   "source": [
    "!pip install emcee\n",
    "!pip install corner"
   ]
  },
  {
   "cell_type": "markdown",
   "id": "52a1c122",
   "metadata": {},
   "source": [
    "## Imports"
   ]
  },
  {
   "cell_type": "code",
   "execution_count": null,
   "id": "b30e471f",
   "metadata": {},
   "outputs": [],
   "source": [
    "import numpy as np\n",
    "import matplotlib.pyplot as plt\n",
    "import pandas as pd\n",
    "\n",
    "# neue Bibliotheken:\n",
    "import emcee\n",
    "import corner"
   ]
  },
  {
   "cell_type": "markdown",
   "id": "3cd527da",
   "metadata": {},
   "source": [
    "## Parameter für Zeichenfläche"
   ]
  },
  {
   "cell_type": "code",
   "execution_count": null,
   "id": "7bde3f60",
   "metadata": {},
   "outputs": [],
   "source": [
    "plt.rcParams['figure.figsize'] = (20,10)"
   ]
  },
  {
   "cell_type": "markdown",
   "id": "2e737761",
   "metadata": {},
   "source": [
    "## Daten einlesen und explorieren"
   ]
  },
  {
   "cell_type": "code",
   "execution_count": null,
   "id": "a41e3684",
   "metadata": {},
   "outputs": [],
   "source": [
    "ice_data = pd.read_csv(\"https://raw.githubusercontent.com/johlei/introduction-to-mcmc/main/ice-cores.csv\", sep=\";\")"
   ]
  },
  {
   "cell_type": "markdown",
   "id": "f9d72382",
   "metadata": {},
   "source": [
    "## Funktionen für MCMC"
   ]
  },
  {
   "cell_type": "code",
   "execution_count": null,
   "id": "e5cd22b3",
   "metadata": {},
   "outputs": [],
   "source": [
    "def model(theta, age):\n",
    "    pass"
   ]
  },
  {
   "cell_type": "code",
   "execution_count": null,
   "id": "4a18553e",
   "metadata": {},
   "outputs": [],
   "source": [
    "def lnlike(theta, x, y, yerr):\n",
    "    pass"
   ]
  },
  {
   "cell_type": "code",
   "execution_count": null,
   "id": "81a50d78",
   "metadata": {},
   "outputs": [],
   "source": [
    "def lnprior(theta):\n",
    "    pass"
   ]
  },
  {
   "cell_type": "code",
   "execution_count": null,
   "id": "3f03eca7",
   "metadata": {},
   "outputs": [],
   "source": [
    "def lnprob(theta, x, y, yerr):\n",
    "    pass"
   ]
  },
  {
   "cell_type": "code",
   "execution_count": null,
   "id": "0575b068",
   "metadata": {},
   "outputs": [],
   "source": [
    "def plotter(sampler, age=age, T=T):\n",
    "    plt.plot(age,T,label='Change in T')\n",
    "    samples = sampler.flatchain\n",
    "    for theta in samples[np.random.randint(len(samples), size=100)]:\n",
    "        plt.plot(age, model(theta, age), color=\"r\", alpha=0.1)\n",
    "    plt.ticklabel_format(style='sci', axis='x', scilimits=(0,0))\n",
    "    plt.xlabel('Years ago')\n",
    "    plt.ylabel(r'$\\Delta$ T (degrees)')\n",
    "    plt.legend()\n",
    "    plt.rcParams['figure.figsize'] = (20,10)\n",
    "    plt.show()"
   ]
  },
  {
   "cell_type": "code",
   "execution_count": null,
   "id": "a4bea502",
   "metadata": {},
   "outputs": [],
   "source": [
    "def main(p0, nwalkers, niter, ndim, lnprob, data):\n",
    "    pass"
   ]
  },
  {
   "cell_type": "markdown",
   "id": "a9d774e3",
   "metadata": {},
   "source": [
    "## Variablen für Durchlauf"
   ]
  },
  {
   "cell_type": "code",
   "execution_count": null,
   "id": "284c0656",
   "metadata": {},
   "outputs": [],
   "source": [
    "Terr = None\n",
    "data = None\n",
    "nwalkers = None\n",
    "niter = None\n",
    "initial = None\n",
    "ndim = None\n",
    "p0 = None"
   ]
  },
  {
   "cell_type": "markdown",
   "id": "ef8a8795",
   "metadata": {},
   "source": [
    "## Starte Iterationen"
   ]
  },
  {
   "cell_type": "code",
   "execution_count": null,
   "id": "0ae04ed5",
   "metadata": {},
   "outputs": [],
   "source": []
  },
  {
   "cell_type": "markdown",
   "id": "bb1ce22f",
   "metadata": {},
   "source": [
    "## Plotte Ergebnisse"
   ]
  },
  {
   "cell_type": "code",
   "execution_count": null,
   "id": "ce02077d",
   "metadata": {},
   "outputs": [],
   "source": []
  },
  {
   "cell_type": "markdown",
   "id": "67ad51ae",
   "metadata": {},
   "source": [
    "## Parameter mit höchster Likelihood"
   ]
  },
  {
   "cell_type": "code",
   "execution_count": null,
   "id": "1cb4cd78",
   "metadata": {},
   "outputs": [],
   "source": []
  },
  {
   "cell_type": "markdown",
   "id": "547d07ce",
   "metadata": {},
   "source": [
    "## Posterior Spread"
   ]
  },
  {
   "cell_type": "code",
   "execution_count": null,
   "id": "61d622df",
   "metadata": {},
   "outputs": [],
   "source": []
  }
 ],
 "metadata": {
  "kernelspec": {
   "display_name": "Python 3 (ipykernel)",
   "language": "python",
   "name": "python3"
  },
  "language_info": {
   "codemirror_mode": {
    "name": "ipython",
    "version": 3
   },
   "file_extension": ".py",
   "mimetype": "text/x-python",
   "name": "python",
   "nbconvert_exporter": "python",
   "pygments_lexer": "ipython3",
   "version": "3.9.7"
  }
 },
 "nbformat": 4,
 "nbformat_minor": 5
}
